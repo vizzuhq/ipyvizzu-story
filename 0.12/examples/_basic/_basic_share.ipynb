{
 "cells": [
  {
   "cell_type": "markdown",
   "id": "a892fbda",
   "metadata": {},
   "source": [
    "# Basic example\n",
    "\n",
    "The below story shows a basic use case for `ipyvizzu-story`."
   ]
  },
  {
   "cell_type": "code",
   "execution_count": null,
   "id": "bff7301a",
   "metadata": {},
   "outputs": [],
   "source": [
    "from ipyvizzu import Data, Config\n",
    "from ipyvizzustory import Story, Slide, Step\n",
    "\n",
    "\n",
    "# Create data object\n",
    "data = Data()\n",
    "data.add_series(\"Foo\", [\"Alice\", \"Bob\", \"Ted\"])\n",
    "data.add_series(\"Bar\", [15, 32, 12])\n",
    "data.add_series(\"Baz\", [5, 3, 2])\n",
    "\n",
    "\n",
    "# Create story object, add data to it\n",
    "story = Story(data=data)\n",
    "\n",
    "\n",
    "# Each slide here is a page in the final interactive story\n",
    "# Add the first slide\n",
    "slide1 = Slide(\n",
    "    Step(\n",
    "        Config({\"x\": \"Foo\", \"y\": \"Bar\"}),\n",
    "    )\n",
    ")\n",
    "# Add the slide to the story\n",
    "story.add_slide(slide1)\n",
    "\n",
    "# Create the second slide\n",
    "# Configs provided here are changes to the visualization\n",
    "# created in the previous Step\n",
    "slide2 = Slide(\n",
    "    Step(\n",
    "        Config({\"color\": \"Foo\", \"x\": \"Baz\", \"geometry\": \"circle\"}),\n",
    "    )\n",
    ")\n",
    "story.add_slide(slide2)\n",
    "\n",
    "\n",
    "# Play the created story!\n",
    "story.play()"
   ]
  }
 ],
 "metadata": {
  "kernelspec": {
   "display_name": "Python 3 (ipykernel)",
   "language": "python",
   "name": "python3"
  },
  "language_info": {
   "codemirror_mode": {
    "name": "ipython",
    "version": 3
   },
   "file_extension": ".py",
   "mimetype": "text/x-python",
   "name": "python",
   "nbconvert_exporter": "python",
   "pygments_lexer": "ipython3",
   "version": "3.9.13"
  }
 },
 "nbformat": 4,
 "nbformat_minor": 5
}
